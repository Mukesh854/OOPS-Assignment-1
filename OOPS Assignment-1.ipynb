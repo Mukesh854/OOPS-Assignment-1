{
 "cells": [
  {
   "cell_type": "markdown",
   "id": "03e266ea-7d8d-4611-b67d-fb4f62a8df0a",
   "metadata": {},
   "source": [
    "# OOPS Assignment-1"
   ]
  },
  {
   "cell_type": "markdown",
   "id": "5c2f460f-412d-4c3c-981b-9a0bb2f0a87e",
   "metadata": {},
   "source": [
    "Q1. Explain Class and Object with respect to Object-Oriented Programming. Give a suitable example."
   ]
  },
  {
   "cell_type": "markdown",
   "id": "cec34eea-1720-48d5-b7af-df743741ebdc",
   "metadata": {},
   "source": [
    ". A class is a blueprint/template for creating objects. It defines the properties (attributes) and behaviors (methods) that objects will have.\n",
    "\n",
    ". An object is an instance of a class. It's a concrete realization of the class, possessing its own unique state (attribute values) and behavior (method implementations)."
   ]
  },
  {
   "cell_type": "code",
   "execution_count": 2,
   "id": "66352c7c-d24a-4984-9b18-c713939e30fb",
   "metadata": {},
   "outputs": [
    {
     "name": "stdout",
     "output_type": "stream",
     "text": [
      "This is a yamaha R-15 2023\n",
      "This is a honda CBR 2020\n"
     ]
    }
   ],
   "source": [
    "# here is an example\n",
    "\n",
    "class bike:\n",
    "    \n",
    "    def __init__(self , make , model , year):\n",
    "        self.make = make\n",
    "        self.model = model\n",
    "        self.year = year\n",
    "    \n",
    "    def display_info(self):\n",
    "        print(f\"This is a {self.make} {self.model} {self.year}\")\n",
    "        \n",
    "\n",
    "bike1 = bike(\"yamaha\" , \"R-15\" , 2023)\n",
    "bike2 = bike(\"honda\" , \"CBR\" , 2020)\n",
    "\n",
    "bike1.display_info()\n",
    "bike2.display_info()\n",
    "        \n",
    "    "
   ]
  },
  {
   "cell_type": "markdown",
   "id": "dd099c25-862f-479d-af9f-41593a92e2b6",
   "metadata": {},
   "source": [
    "Q2. Name the four pillars of OOPs."
   ]
  },
  {
   "cell_type": "markdown",
   "id": "d54d02b1-5150-46e7-8bc5-b4b457541905",
   "metadata": {},
   "source": [
    "The four pillars of OOPs are:-\n",
    "\n",
    "1) Encapsulation\n",
    "\n",
    "2) Abstraction\n",
    "\n",
    "3) Inheritance\n",
    "\n",
    "4) Polymorphism"
   ]
  },
  {
   "cell_type": "markdown",
   "id": "4ba51119-16f1-4aa7-9066-184b6065216e",
   "metadata": {},
   "source": [
    "Q3. Explain why the __init__() function is used. Give a suitable example."
   ]
  },
  {
   "cell_type": "markdown",
   "id": "cc5de1c4-d732-44d7-b104-28b1e1ff3d68",
   "metadata": {},
   "source": [
    "The __init__() function is used in Python classes to initialize the attributes of an object when it is created. It serves as a constructor and allows for customization of the object's initial state."
   ]
  },
  {
   "cell_type": "code",
   "execution_count": 3,
   "id": "c8127913-5ed8-44d4-8dc2-c81ea1441088",
   "metadata": {},
   "outputs": [
    {
     "name": "stdout",
     "output_type": "stream",
     "text": [
      "This is a yamaha R-15 2023\n"
     ]
    }
   ],
   "source": [
    "class bike:\n",
    "    \n",
    "    def __init__(self , make , model , year):\n",
    "        self.make = make\n",
    "        self.model = model\n",
    "        self.year = year\n",
    "    \n",
    "    def display_info(self):\n",
    "        print(f\"This is a {self.make} {self.model} {self.year}\")\n",
    "        \n",
    "\n",
    "bike1 = bike(\"yamaha\" , \"R-15\" , 2023)\n",
    "\n",
    "bike1.display_info()\n",
    "\n",
    "        "
   ]
  },
  {
   "cell_type": "raw",
   "id": "65cdf65a-b490-470d-8ffa-68e727fb20ad",
   "metadata": {},
   "source": [
    "Q4. Why self is used in OOPs?"
   ]
  },
  {
   "cell_type": "markdown",
   "id": "b0034b50-4570-432d-9c2c-4d51a9bea305",
   "metadata": {},
   "source": [
    "Self in OOP serves as a reference to the current instance of a class. It's used to access and modify instance attributes within instance methods, ensuring that changes apply to the correct instance.\n",
    "\n",
    "\n",
    "\n",
    "\n"
   ]
  },
  {
   "cell_type": "markdown",
   "id": "c54f944c-7c9e-4acc-9001-6741776dd5d7",
   "metadata": {},
   "source": [
    "Q5. What is inheritance? Give an example for each type of inheritance."
   ]
  },
  {
   "cell_type": "markdown",
   "id": "a42aa761-c94a-478d-b221-aa9b00a4cc00",
   "metadata": {},
   "source": [
    "\n",
    "Inheritance in OOP allows a subclass to inherit attributes and methods from a superclass, promoting code reuse and establishing hierarchical relationships between classes.\n",
    "\n",
    "1) Single Inheritance: A subclass inherits from only one superclass."
   ]
  },
  {
   "cell_type": "code",
   "execution_count": 4,
   "id": "88e62206-11a3-437b-b39f-f0f883d1e65b",
   "metadata": {},
   "outputs": [
    {
     "name": "stdout",
     "output_type": "stream",
     "text": [
      "Animal speaks\n",
      "Dog barks\n"
     ]
    }
   ],
   "source": [
    "class Animal:\n",
    "    def speak(self):\n",
    "        print(\"Animal speaks\")\n",
    "\n",
    "class Dog(Animal):  # Dog inherits from Animal\n",
    "    def bark(self):\n",
    "        print(\"Dog barks\")\n",
    "\n",
    "dog = Dog()\n",
    "dog.speak()  # \n",
    "dog.bark()  \n"
   ]
  },
  {
   "cell_type": "markdown",
   "id": "95386db5-ce69-4eef-a3be-6c80471890bd",
   "metadata": {},
   "source": [
    "2) Multiple Inheritance: A subclass inherits from multiple superclasses."
   ]
  },
  {
   "cell_type": "code",
   "execution_count": 5,
   "id": "88a0ddfa-8b0a-4f51-bb82-ab88d8038ee0",
   "metadata": {},
   "outputs": [
    {
     "name": "stdout",
     "output_type": "stream",
     "text": [
      "Can fly\n",
      "Can swim\n"
     ]
    }
   ],
   "source": [
    "class Flyable:\n",
    "    def fly(self):\n",
    "        print(\"Can fly\")\n",
    "\n",
    "class Swimmer:\n",
    "    def swim(self):\n",
    "        print(\"Can swim\")\n",
    "\n",
    "class Duck(Flyable, Swimmer):  \n",
    "    pass\n",
    "\n",
    "duck = Duck()\n",
    "duck.fly()   \n",
    "duck.swim()  \n"
   ]
  },
  {
   "cell_type": "markdown",
   "id": "d9056ecb-1870-4588-8043-3ee008b4187b",
   "metadata": {},
   "source": [
    "3) Multilevel Inheritance: A subclass inherits from another subclass, creating a hierarchy of classes."
   ]
  },
  {
   "cell_type": "code",
   "execution_count": 7,
   "id": "af62f699-3ad5-47b2-8ecf-b5ec27659a91",
   "metadata": {},
   "outputs": [
    {
     "name": "stdout",
     "output_type": "stream",
     "text": [
      "Animal speaks\n",
      "Dog barks\n",
      "Golden Retriever fetches\n"
     ]
    }
   ],
   "source": [
    "class Animal:\n",
    "    def speak(self):\n",
    "        print(\"Animal speaks\")\n",
    "\n",
    "class Dog(Animal):  # Dog inherits from Animal\n",
    "    def bark(self):\n",
    "        print(\"Dog barks\")\n",
    "\n",
    "class GoldenRetriever(Dog):  \n",
    "    def fetch(self):\n",
    "        print(\"Golden Retriever fetches\")\n",
    "\n",
    "golden = GoldenRetriever()\n",
    "golden.speak()  \n",
    "golden.bark() \n",
    "golden.fetch()\n"
   ]
  },
  {
   "cell_type": "code",
   "execution_count": null,
   "id": "24a83e00-60da-4afe-b43c-775b688b4977",
   "metadata": {},
   "outputs": [],
   "source": []
  }
 ],
 "metadata": {
  "kernelspec": {
   "display_name": "Python 3 (ipykernel)",
   "language": "python",
   "name": "python3"
  },
  "language_info": {
   "codemirror_mode": {
    "name": "ipython",
    "version": 3
   },
   "file_extension": ".py",
   "mimetype": "text/x-python",
   "name": "python",
   "nbconvert_exporter": "python",
   "pygments_lexer": "ipython3",
   "version": "3.10.8"
  }
 },
 "nbformat": 4,
 "nbformat_minor": 5
}
